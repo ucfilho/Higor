{
  "nbformat": 4,
  "nbformat_minor": 0,
  "metadata": {
    "colab": {
      "name": "Tell_me_something_about_002_installment.ipynb",
      "provenance": [],
      "include_colab_link": true
    },
    "kernelspec": {
      "name": "python3",
      "display_name": "Python 3"
    }
  },
  "cells": [
    {
      "cell_type": "markdown",
      "metadata": {
        "id": "view-in-github",
        "colab_type": "text"
      },
      "source": [
        "<a href=\"https://colab.research.google.com/github/ucfilho/Higor/blob/main/Quadra/Tell_me_something_about_002_installment.ipynb\" target=\"_parent\"><img src=\"https://colab.research.google.com/assets/colab-badge.svg\" alt=\"Open In Colab\"/></a>"
      ]
    },
    {
      "cell_type": "code",
      "metadata": {
        "id": "TLPzM9RBW0_7"
      },
      "source": [
        "# EMI : Equated Monthly Installment."
      ],
      "execution_count": 1,
      "outputs": []
    },
    {
      "cell_type": "code",
      "metadata": {
        "id": "Dnf7YlnIXzeX"
      },
      "source": [
        "def emi_calculator(p, r, t): \n",
        "\tr = r / (100) # one month interest \n",
        "\tt = t  # one month period \n",
        "\temi = (p * r * pow(1 + r, t)) / (pow(1 + r, t) - 1) \n",
        "\treturn emi "
      ],
      "execution_count": 2,
      "outputs": []
    },
    {
      "cell_type": "code",
      "metadata": {
        "id": "A_lwlyeUb4Jc",
        "colab": {
          "base_uri": "https://localhost:8080/"
        },
        "outputId": "ffc69265-3706-4929-e66a-f53d59198f1d"
      },
      "source": [
        "principal = float(input(\"Enter the principal amount (e.g. 20000 for $20000): \"))\n",
        "rate = float(input(\"Enter the interest rate per month(e.g. 4 for 4%):   \"))\n",
        "time = float(input(\"Enter the time in months: \"))"
      ],
      "execution_count": 3,
      "outputs": [
        {
          "name": "stdout",
          "output_type": "stream",
          "text": [
            "Enter the principal amount (e.g. 20000 for $20000): 420000\n",
            "Enter the interest rate per month(e.g. 4 for 4%):   2\n",
            "Enter the time in months: 60\n"
          ]
        }
      ]
    },
    {
      "cell_type": "code",
      "metadata": {
        "id": "aKeHk8N2e3rr"
      },
      "source": [
        "emi = emi_calculator(principal, rate, time)"
      ],
      "execution_count": 4,
      "outputs": []
    },
    {
      "cell_type": "code",
      "metadata": {
        "id": "DERmWA2BqbBs",
        "colab": {
          "base_uri": "https://localhost:8080/"
        },
        "outputId": "3a136d7d-d582-4b18-be73-6859e8b9f7d7"
      },
      "source": [
        "print(\"Monthly EMI is= \", emi) "
      ],
      "execution_count": 5,
      "outputs": [
        {
          "output_type": "stream",
          "name": "stdout",
          "text": [
            "Monthly EMI is=  12082.545646838653\n"
          ]
        }
      ]
    }
  ]
}